{
 "cells": [
  {
   "cell_type": "code",
   "execution_count": 40,
   "id": "43b72a85-7c2d-4851-a815-6927daf04c70",
   "metadata": {},
   "outputs": [
    {
     "name": "stdout",
     "output_type": "stream",
     "text": [
      "tensor([0.2700, 0.2400, 0.2800, 0.2100])\n"
     ]
    }
   ],
   "source": [
    "from pomegranate.bayesian_network import BayesianNetwork\n",
    "import csv\n",
    "\n",
    "###Basic Structure of Network where each index in list represents a node and each tuple is its parents\n",
    "#Season, Rain, Sprinkler, Wet, Slippery\n",
    "structure = [(),(0,),(0,),(1,2),(3,)]\n",
    "\n",
    "\n",
    "###create test_model with structure\n",
    "test_model = BayesianNetwork(structure = structure)\n",
    "\n",
    "###set path to csv file to import data\n",
    "path = \"C:\\\\Users\\\\Chillow\\\\dataset.csv\"\n",
    "\n",
    "###import data in usable format\n",
    "array = []\n",
    "with open(path, 'r') as data:\n",
    "    csv_reader = csv.reader(data)\n",
    "\n",
    "    next(csv_reader)\n",
    "    \n",
    "    for row in csv_reader:\n",
    "        row_int = [int(float(value)) for value in row]\n",
    "        array.append(row_int)\n",
    "\n",
    "###fit Bayesian Network to data\n",
    "test_model.fit(array)\n",
    "\n",
    "###print probabilities for season to see probs based on data.\n",
    "print(test_model.distributions[0].probs[0])\n",
    "\n"
   ]
  },
  {
   "cell_type": "code",
   "execution_count": null,
   "id": "2df4df7a-157d-4e9d-bfbc-2484923c92de",
   "metadata": {},
   "outputs": [],
   "source": []
  },
  {
   "cell_type": "code",
   "execution_count": null,
   "id": "fba8a408-9331-4ec5-b232-6a4aa99928b8",
   "metadata": {},
   "outputs": [],
   "source": []
  }
 ],
 "metadata": {
  "kernelspec": {
   "display_name": "Python 3 (ipykernel)",
   "language": "python",
   "name": "python3"
  },
  "language_info": {
   "codemirror_mode": {
    "name": "ipython",
    "version": 3
   },
   "file_extension": ".py",
   "mimetype": "text/x-python",
   "name": "python",
   "nbconvert_exporter": "python",
   "pygments_lexer": "ipython3",
   "version": "3.12.2"
  }
 },
 "nbformat": 4,
 "nbformat_minor": 5
}
