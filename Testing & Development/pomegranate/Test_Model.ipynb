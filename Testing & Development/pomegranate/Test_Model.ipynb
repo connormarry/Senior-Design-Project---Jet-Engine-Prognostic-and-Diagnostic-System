{
 "cells": [
  {
   "cell_type": "markdown",
   "id": "d3f91e31",
   "metadata": {},
   "source": [
    "# Test Model"
   ]
  },
  {
   "cell_type": "code",
   "execution_count": 3,
   "id": "a490609d",
   "metadata": {
    "scrolled": true
   },
   "outputs": [],
   "source": [
    "from pomegranate.distributions import Categorical\n",
    "from pomegranate.distributions import ConditionalCategorical\n",
    "import numpy\n",
    "\n",
    "Season = Categorical([[.25, .25, .25, .25]])\n",
    "\n",
    "#without the extra set of brackets, you will get a type error. (Docs say you need to have a 3d array, even if one dimension is empty)\n",
    "p_rain = numpy.array([[\n",
    "    [.45,.55],\n",
    "    [.68,.32],\n",
    "    [.22,.78],\n",
    "    [.45,.55]\n",
    "]])\n",
    "\n",
    "p_sprinkler = numpy.array([[\n",
    "    [.84,.16],\n",
    "    [.92,.08],\n",
    "    [.55,.45],\n",
    "    [.15,.85] \n",
    "]])\n",
    "\n",
    "p_wet = numpy.array([[\n",
    "    [[.95,.05],[.1,.9]],\n",
    "    [[.1,.9],[.01,.99]]    \n",
    "]])\n",
    "\n",
    "\n",
    "Rain = ConditionalCategorical(p_rain)\n",
    "Sprinkler = ConditionalCategorical(p_sprinkler)\n",
    "Wet = ConditionalCategorical(p_wet)\n",
    "\n",
    "\n",
    "\n"
   ]
  },
  {
   "cell_type": "markdown",
   "id": "b6b6729c",
   "metadata": {},
   "source": [
    "Now that all the nodes are set up, we should be able to create a Bayesian Network.\n",
    "The first argument is a list of all nodes, the second argument is a list of edges."
   ]
  },
  {
   "cell_type": "code",
   "execution_count": 5,
   "id": "a64152e0",
   "metadata": {},
   "outputs": [
    {
     "data": {
      "text/plain": [
       "tensor([[0, 0, 1, 1],\n",
       "        [0, 1, 1, 1],\n",
       "        [0, 0, 0, 0],\n",
       "        ...,\n",
       "        [1, 0, 0, 1],\n",
       "        [1, 0, 0, 0],\n",
       "        [0, 1, 0, 1]], dtype=torch.int32)"
      ]
     },
     "execution_count": 5,
     "metadata": {},
     "output_type": "execute_result"
    }
   ],
   "source": [
    "from pomegranate.bayesian_network import BayesianNetwork\n",
    "\n",
    "test_model = BayesianNetwork([Season,Rain,Sprinkler,Wet],[(Season,Rain),(Season,Sprinkler),(Sprinkler, Wet),(Rain,Wet)])\n",
    "\n",
    "artificial_data=test_model.sample(100000)\n",
    "artificial_data"
   ]
  },
  {
   "cell_type": "code",
   "execution_count": 9,
   "id": "403c4627",
   "metadata": {},
   "outputs": [
    {
     "data": {
      "text/plain": [
       "array([[0, 0, 1, 1],\n",
       "       [0, 1, 1, 1],\n",
       "       [0, 0, 0, 0],\n",
       "       ...,\n",
       "       [1, 0, 0, 1],\n",
       "       [1, 0, 0, 0],\n",
       "       [0, 1, 0, 1]])"
      ]
     },
     "execution_count": 9,
     "metadata": {},
     "output_type": "execute_result"
    }
   ],
   "source": [
    "artificial_data = artificial_data.numpy()\n",
    "artificial_data\n",
    "\n"
   ]
  },
  {
   "cell_type": "code",
   "execution_count": 15,
   "id": "fef0773d",
   "metadata": {},
   "outputs": [],
   "source": [
    "#created a blank text doc titled data_set in same directory before running\n",
    "f = open(\"data_set.txt\", \"w\")\n",
    "for array in artificial_data:\n",
    "    f.write(str(array)+\"\\n\")\n",
    "\n",
    "f.close()"
   ]
  },
  {
   "cell_type": "code",
   "execution_count": 1,
   "id": "0857745b",
   "metadata": {},
   "outputs": [
    {
     "ename": "NameError",
     "evalue": "name 'f' is not defined",
     "output_type": "error",
     "traceback": [
      "\u001b[1;31m---------------------------------------------------------------------------\u001b[0m",
      "\u001b[1;31mNameError\u001b[0m                                 Traceback (most recent call last)",
      "Cell \u001b[1;32mIn[1], line 1\u001b[0m\n\u001b[1;32m----> 1\u001b[0m f\u001b[38;5;241m.\u001b[39mclose()\n",
      "\u001b[1;31mNameError\u001b[0m: name 'f' is not defined"
     ]
    }
   ],
   "source": []
  },
  {
   "cell_type": "code",
   "execution_count": null,
   "id": "173594e4",
   "metadata": {},
   "outputs": [],
   "source": []
  }
 ],
 "metadata": {
  "kernelspec": {
   "display_name": "Python 3 (ipykernel)",
   "language": "python",
   "name": "python3"
  },
  "language_info": {
   "codemirror_mode": {
    "name": "ipython",
    "version": 3
   },
   "file_extension": ".py",
   "mimetype": "text/x-python",
   "name": "python",
   "nbconvert_exporter": "python",
   "pygments_lexer": "ipython3",
   "version": "3.11.5"
  }
 },
 "nbformat": 4,
 "nbformat_minor": 5
}
